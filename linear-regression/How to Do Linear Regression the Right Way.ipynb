{
 "cells": [
  {
   "cell_type": "markdown",
   "metadata": {},
   "source": [
    "## What is linear regression\n",
    "Draw a line and compute the error, which will lead to the best line that we can reach\n",
    "\n",
    "$$Error_{(m,b)} = \\frac{1}{N}\\sum_{i=1}^N \\left(y_i - \\left(m x_i + b\\right)\\right)^2$$\n"
   ]
  },
  {
   "cell_type": "markdown",
   "metadata": {
    "deletable": true,
    "editable": true
   },
   "source": [
    "## What is gradient descent\n",
    "Descent via gradient down, to find the lowest point (like dropping a ball in bowl) - the smallest error, by the end of iterations.\n",
    "\n",
    "## Partial derivative equation\n",
    "\\begin{align}\n",
    "\\frac{\\partial}{\\partial m} = \\frac{2}{N} \\sum_{i=1}^N -x_i \\left(y_i - \\left(mx_i + b\\right)\\right) \\\\\n",
    "\\frac{\\partial}{\\partial b} = \\frac{2}{N} \\sum_{i=1}^N -\\left(y_i - \\left(mx_i + b\\right)\\right)\n",
    "\\end{align}\n"
   ]
  },
  {
   "cell_type": "code",
   "execution_count": 9,
   "metadata": {
    "collapsed": true
   },
   "outputs": [],
   "source": [
    "import numpy as np"
   ]
  },
  {
   "cell_type": "code",
   "execution_count": 10,
   "metadata": {
    "collapsed": true
   },
   "outputs": [],
   "source": [
    "def compute_error_for_line_given_points(b, m, points):\n",
    "    \"\"\" implement the error equation above \"\"\"\n",
    "    \n",
    "    # initialize error at 0\n",
    "    total_error = 0\n",
    "    \n",
    "    for i in range(0, len(points)):\n",
    "        x = points[i, 0]\n",
    "        y = points[i, 1]\n",
    "        \n",
    "        # calculate difference, square it, add to the total\n",
    "        total_error += (y - (m * x + b)) ** 2\n",
    "        \n",
    "    # get the average\n",
    "    return total_error / len(points)"
   ]
  },
  {
   "cell_type": "code",
   "execution_count": 15,
   "metadata": {
    "collapsed": true,
    "deletable": true,
    "editable": true
   },
   "outputs": [],
   "source": [
    "def gradient_descent_runner(points, starting_b, starting_m,\n",
    "                            learning_rate, num_iterations):\n",
    "    # starting b and m\n",
    "    b = starting_b\n",
    "    m = starting_m\n",
    "    \n",
    "    # gradient descent\n",
    "    for i in range(num_iterations):\n",
    "        # update b and m with more accurate b and m by performing the gradient step\n",
    "        b, m = step_gradient(b, m, np.array(points), learning_rate)\n",
    "        \n",
    "    return [b, m]"
   ]
  },
  {
   "cell_type": "code",
   "execution_count": 17,
   "metadata": {
    "collapsed": true
   },
   "outputs": [],
   "source": [
    "def step_gradient(b_current, m_current, points, learning_rate):\n",
    "    # starting points for gradients\n",
    "    b_gradient = 0\n",
    "    m_gradient = 0\n",
    "    n = float(len(points))\n",
    "    \n",
    "    for i in range(0, len(points)):\n",
    "        x = points[i, 0]\n",
    "        y = points[i, 1]\n",
    "        # direction with respect to b and m\n",
    "        # computing partial derivatives of our error function\n",
    "        b_gradient += -(2/n) * (y - (m_current * x + b_current))\n",
    "        m_gradient += -(2/n) * x * (y - (m_current * x + b_current))\n",
    "        \n",
    "    # update b and m values using the partial derivatives\n",
    "    new_b = b_current - (learning_rate * b_gradient)\n",
    "    new_m = m_current - (learning_rate * m_gradient)\n",
    "    \n",
    "    return [new_b, new_m]"
   ]
  },
  {
   "cell_type": "code",
   "execution_count": 13,
   "metadata": {
    "collapsed": false
   },
   "outputs": [],
   "source": [
    "def run():\n",
    "    # step 1 - collect the data\n",
    "    points = np.genfromtxt(r'./data/data.csv', delimiter=',')\n",
    "\n",
    "    # step 2 - define our hyperparameters\n",
    "    # how fast should our model converge?\n",
    "    learning_rate = 0.0001\n",
    "    # y = mx + b\n",
    "    initial_b = 0\n",
    "    initial_m = 0\n",
    "    num_iterations = 1000\n",
    "\n",
    "    # step 3 - train the model\n",
    "    print 'starting gradient descent at b = {0}, m = {1}, error = {2}'.format(\n",
    "                initial_b, initial_m, compute_error_for_line_given_points(initial_b, initial_m, points))\n",
    "\n",
    "    [b, m] = gradient_descent_runner(points, initial_b, \n",
    "                                     initial_m, learning_rate,\n",
    "                                     num_iterations)\n",
    "\n",
    "    print 'ending point at b = {1}, m = {2}, error = {3}'.format(\n",
    "                num_iterations, b, m, compute_error_for_line_given_points(b, m, points))"
   ]
  },
  {
   "cell_type": "code",
   "execution_count": 18,
   "metadata": {
    "collapsed": false
   },
   "outputs": [
    {
     "name": "stdout",
     "output_type": "stream",
     "text": [
      "starting gradient descent at b = 0, m = 0, error = 5565.10783448\n",
      "ending point at b = 0.0889365199374, m = 1.47774408519, error = 112.614810116\n"
     ]
    }
   ],
   "source": [
    "run()"
   ]
  }
 ],
 "metadata": {
  "kernelspec": {
   "display_name": "Python (siraj-regression)",
   "language": "python",
   "name": "siraj-regression"
  },
  "language_info": {
   "codemirror_mode": {
    "name": "ipython",
    "version": 2
   },
   "file_extension": ".py",
   "mimetype": "text/x-python",
   "name": "python",
   "nbconvert_exporter": "python",
   "pygments_lexer": "ipython2",
   "version": "2.7.13"
  }
 },
 "nbformat": 4,
 "nbformat_minor": 2
}
